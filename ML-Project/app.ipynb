{
 "cells": [
  {
   "cell_type": "markdown",
   "metadata": {},
   "source": [
    "#### Created on Tue Feb  20 19:17:20 2021\n",
    "#### @author: Selman Baskaya"
   ]
  },
  {
   "cell_type": "markdown",
   "metadata": {},
   "source": [
    "### Import Libraries"
   ]
  },
  {
   "cell_type": "code",
   "execution_count": 10,
   "metadata": {},
   "outputs": [],
   "source": [
    "import pandas as pd"
   ]
  },
  {
   "cell_type": "markdown",
   "metadata": {},
   "source": [
    "### Data Upload"
   ]
  },
  {
   "cell_type": "code",
   "execution_count": 11,
   "metadata": {},
   "outputs": [
    {
     "name": "stdout",
     "output_type": "stream",
     "text": [
      "<class 'pandas.core.frame.DataFrame'>\n",
      "RangeIndex: 969 entries, 0 to 968\n",
      "Data columns (total 9 columns):\n",
      " #   Column                                                                                                                  Non-Null Count  Dtype \n",
      "---  ------                                                                                                                  --------------  ----- \n",
      " 0   Zaman damgası                                                                                                           969 non-null    object\n",
      " 1   Hangi üniversitede okuyorsun?                                                                                           969 non-null    object\n",
      " 2   Hangi bölümde okuyorsun?                                                                                                969 non-null    object\n",
      " 3   Derslerinin işlenme yöntemi aşağıdakilerden hangisi?                                                                    969 non-null    object\n",
      " 4   Derslerinin işleyişi aşağıdakilerden hangisi ile yapılıyor?                                                             969 non-null    object\n",
      " 5   Derslerinin not değerlendirilmesinde vize ve final sınavlarına ek olarak farklı metotlar uygulanıyor mu?                969 non-null    object\n",
      " 6   Derslerin öğrenci etkileşimli mi işleniyor?                                                                             969 non-null    object\n",
      " 7   Bir sorun ile karşılaştığında öğretim üyeleri veya gerekli birimlere ulaşmak pandemi öncesine göre nasıl bir hal aldı?  969 non-null    object\n",
      " 8   Yukarıda vermiş olduğun cevaplara göre uzaktan eğitim sürecinin verimlilik puanı senin için kaç olurdu?                 969 non-null    int64 \n",
      "dtypes: int64(1), object(8)\n",
      "memory usage: 68.3+ KB\n"
     ]
    }
   ],
   "source": [
    "tempData = pd.read_csv(\"dataset/data.csv\")\n",
    "tempData.info()"
   ]
  },
  {
   "cell_type": "markdown",
   "metadata": {},
   "source": [
    "### Seperating Data"
   ]
  },
  {
   "cell_type": "code",
   "execution_count": 12,
   "metadata": {},
   "outputs": [
    {
     "data": {
      "text/html": [
       "<div>\n",
       "<style scoped>\n",
       "    .dataframe tbody tr th:only-of-type {\n",
       "        vertical-align: middle;\n",
       "    }\n",
       "\n",
       "    .dataframe tbody tr th {\n",
       "        vertical-align: top;\n",
       "    }\n",
       "\n",
       "    .dataframe thead th {\n",
       "        text-align: right;\n",
       "    }\n",
       "</style>\n",
       "<table border=\"1\" class=\"dataframe\">\n",
       "  <thead>\n",
       "    <tr style=\"text-align: right;\">\n",
       "      <th></th>\n",
       "      <th>Derslerinin işlenme yöntemi aşağıdakilerden hangisi?</th>\n",
       "      <th>Derslerinin işleyişi aşağıdakilerden hangisi ile yapılıyor?</th>\n",
       "      <th>Derslerinin not değerlendirilmesinde vize ve final sınavlarına ek olarak farklı metotlar uygulanıyor mu?</th>\n",
       "      <th>Derslerin öğrenci etkileşimli mi işleniyor?</th>\n",
       "      <th>Bir sorun ile karşılaştığında öğretim üyeleri veya gerekli birimlere ulaşmak pandemi öncesine göre nasıl bir hal aldı?</th>\n",
       "      <th>Yukarıda vermiş olduğun cevaplara göre uzaktan eğitim sürecinin verimlilik puanı senin için kaç olurdu?</th>\n",
       "    </tr>\n",
       "  </thead>\n",
       "  <tbody>\n",
       "    <tr>\n",
       "      <th>0</th>\n",
       "      <td>Tüm derslerim senkron modeli ile işleniyor</td>\n",
       "      <td>Teorik + Uygulama</td>\n",
       "      <td>Evet, sınavlara ek olarak ödev/proje gibi  ver...</td>\n",
       "      <td>Evet, öğrenci etkileşimli</td>\n",
       "      <td>Sorunlarımı çözüme kavuşturmak için daha çok u...</td>\n",
       "      <td>3</td>\n",
       "    </tr>\n",
       "    <tr>\n",
       "      <th>1</th>\n",
       "      <td>Tüm derslerim senkron modeli ile işleniyor</td>\n",
       "      <td>Teorik</td>\n",
       "      <td>Hayır, vize ve final sınavlarından ayrı ek bir...</td>\n",
       "      <td>Hayır, öğrenci etkileşimli değil</td>\n",
       "      <td>Sorunlarımı çözüme kavuşturmak için daha çok u...</td>\n",
       "      <td>1</td>\n",
       "    </tr>\n",
       "    <tr>\n",
       "      <th>2</th>\n",
       "      <td>Tüm derslerim senkron modeli ile işleniyor</td>\n",
       "      <td>Teorik</td>\n",
       "      <td>Evet, sınavlara ek olarak ödev/proje gibi  ver...</td>\n",
       "      <td>Hayır, öğrenci etkileşimli değil</td>\n",
       "      <td>Sorunlarımı çözüme kavuşturmak için daha çok u...</td>\n",
       "      <td>2</td>\n",
       "    </tr>\n",
       "    <tr>\n",
       "      <th>3</th>\n",
       "      <td>Bazı derslerim senkron bazı derslerim de asenk...</td>\n",
       "      <td>Teorik + Uygulama</td>\n",
       "      <td>Evet, sınavlara ek olarak ödev/proje gibi  ver...</td>\n",
       "      <td>Evet, öğrenci etkileşimli</td>\n",
       "      <td>Sorunlarımı çözüme kavuşturmak çok daha kısa s...</td>\n",
       "      <td>4</td>\n",
       "    </tr>\n",
       "    <tr>\n",
       "      <th>4</th>\n",
       "      <td>Tüm derslerim asenkron modeli ile işleniyor</td>\n",
       "      <td>Teorik</td>\n",
       "      <td>Hayır, vize ve final sınavlarından ayrı ek bir...</td>\n",
       "      <td>Evet, öğrenci etkileşimli</td>\n",
       "      <td>Sorunlarımı çözüme kavuşturmak çok daha kısa s...</td>\n",
       "      <td>2</td>\n",
       "    </tr>\n",
       "  </tbody>\n",
       "</table>\n",
       "</div>"
      ],
      "text/plain": [
       "  Derslerinin işlenme yöntemi aşağıdakilerden hangisi?  \\\n",
       "0         Tüm derslerim senkron modeli ile işleniyor     \n",
       "1         Tüm derslerim senkron modeli ile işleniyor     \n",
       "2         Tüm derslerim senkron modeli ile işleniyor     \n",
       "3  Bazı derslerim senkron bazı derslerim de asenk...     \n",
       "4        Tüm derslerim asenkron modeli ile işleniyor     \n",
       "\n",
       "  Derslerinin işleyişi aşağıdakilerden hangisi ile yapılıyor?  \\\n",
       "0                                  Teorik + Uygulama            \n",
       "1                                             Teorik            \n",
       "2                                             Teorik            \n",
       "3                                  Teorik + Uygulama            \n",
       "4                                             Teorik            \n",
       "\n",
       "  Derslerinin not değerlendirilmesinde vize ve final sınavlarına ek olarak farklı metotlar uygulanıyor mu?  \\\n",
       "0  Evet, sınavlara ek olarak ödev/proje gibi  ver...                                                         \n",
       "1  Hayır, vize ve final sınavlarından ayrı ek bir...                                                         \n",
       "2  Evet, sınavlara ek olarak ödev/proje gibi  ver...                                                         \n",
       "3  Evet, sınavlara ek olarak ödev/proje gibi  ver...                                                         \n",
       "4  Hayır, vize ve final sınavlarından ayrı ek bir...                                                         \n",
       "\n",
       "  Derslerin öğrenci etkileşimli mi işleniyor?  \\\n",
       "0                   Evet, öğrenci etkileşimli   \n",
       "1            Hayır, öğrenci etkileşimli değil   \n",
       "2            Hayır, öğrenci etkileşimli değil   \n",
       "3                   Evet, öğrenci etkileşimli   \n",
       "4                   Evet, öğrenci etkileşimli   \n",
       "\n",
       "  Bir sorun ile karşılaştığında öğretim üyeleri veya gerekli birimlere ulaşmak pandemi öncesine göre nasıl bir hal aldı?  \\\n",
       "0  Sorunlarımı çözüme kavuşturmak için daha çok u...                                                                       \n",
       "1  Sorunlarımı çözüme kavuşturmak için daha çok u...                                                                       \n",
       "2  Sorunlarımı çözüme kavuşturmak için daha çok u...                                                                       \n",
       "3  Sorunlarımı çözüme kavuşturmak çok daha kısa s...                                                                       \n",
       "4  Sorunlarımı çözüme kavuşturmak çok daha kısa s...                                                                       \n",
       "\n",
       "   Yukarıda vermiş olduğun cevaplara göre uzaktan eğitim sürecinin verimlilik puanı senin için kaç olurdu?  \n",
       "0                                                  3                                                        \n",
       "1                                                  1                                                        \n",
       "2                                                  2                                                        \n",
       "3                                                  4                                                        \n",
       "4                                                  2                                                        "
      ]
     },
     "execution_count": 12,
     "metadata": {},
     "output_type": "execute_result"
    }
   ],
   "source": [
    "data = tempData.iloc[:, 3:]\n",
    "data.head()"
   ]
  },
  {
   "cell_type": "markdown",
   "metadata": {},
   "source": [
    "### Label Encoding"
   ]
  },
  {
   "cell_type": "code",
   "execution_count": null,
   "metadata": {},
   "outputs": [],
   "source": []
  }
 ],
 "metadata": {
  "kernelspec": {
   "display_name": "Python 3",
   "language": "python",
   "name": "python3"
  },
  "language_info": {
   "codemirror_mode": {
    "name": "ipython",
    "version": 3
   },
   "file_extension": ".py",
   "mimetype": "text/x-python",
   "name": "python",
   "nbconvert_exporter": "python",
   "pygments_lexer": "ipython3",
   "version": "3.8.5"
  }
 },
 "nbformat": 4,
 "nbformat_minor": 4
}
